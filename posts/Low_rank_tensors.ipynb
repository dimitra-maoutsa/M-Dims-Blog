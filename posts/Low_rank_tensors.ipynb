{
 "cells": [
  {
   "cell_type": "raw",
   "id": "b4978abd-1164-4e8f-afcc-7ef29f902992",
   "metadata": {},
   "source": [
    "---\n",
    "title: \"Low tensor rank learning of neural dynamics\"\n",
    "author: \"Dimitra Maoutsa\"\n",
    "date: \"2025-05-25\"\n",
    "categories: [blog]\n",
    "description: \"or how to track changes in collective dynamics during learning (coming soon) \"\n",
    "image: images/low_tensor.png\n",
    "bibliography: references.bib\n",
    "---\n",
    "\n",
    "### A bit of a background\n",
    "\n",
    "\n",
    "Back in **September 2023**, after the **Bernstein Conference**, I came back from **Alex Cayco-Gajic’s** workshop talk quite inspired. The **low tensor rank framework** she presented (work together with **Arthur Pellegrino** and **Angus Chadwick** @pellegrino2023low) had struck me as one of the more conceptually elegant approaches **to track how neural population dynamics change over learning**. I very enthusiastically shared my excitement in the internal post-Bernstein group meeting, as one does when ideas resonate[^1].\n",
    "\n",
    "\n",
    "\n",
    "\n",
    "\n",
    "![photo from my presentation containing photo of Alex’s presentation :)](images/low_tensor.png){width=600}\n",
    "\n",
    "\n",
    "It turned out that sharing my excitement about someone else’s work[^2] didn’t land equally well with everyone in the room, but that’s life. The dynamics that followed are perhaps best saved for a more informal conversation.\n",
    "\n",
    "A few months later, in December 2023, I noticed the call for the ICLR 2024 blogpost track, and thought this would be a great opportunity to spotlight this work. I began drafting a piece, but for a mix of personal and political reasons (and admittedly, some competing deadlines), I set it aside[^3].\n",
    "\n",
    "Since I am still excited about this work, stay tuned here, I will soon revive this post.\n",
    "\n",
    "In the meantime, I recommend going straight to the source, **it’s a great read**.\n",
    "\n",
    "\n",
    "[^1]: I even reached out a few days later to congratulate her on the talk (a breach of my usually well-fortified social inertia) and to ask for a copy of a paper I couldn’t access.\n",
    "\n",
    "[^2]: especially that specific someone\n",
    "\n",
    "[^3]: ![ICLR blogpost track pull request](images/ICLR_blog2023.png)\n",
    "\n"
   ]
  },
  {
   "cell_type": "code",
   "execution_count": null,
   "id": "743dc6e8-2fb9-4687-bdc1-c75f63fcf5c2",
   "metadata": {},
   "outputs": [],
   "source": []
  },
  {
   "cell_type": "code",
   "execution_count": null,
   "id": "8390c627-e14a-4202-aca6-3ec35b952ba5",
   "metadata": {},
   "outputs": [],
   "source": []
  }
 ],
 "metadata": {
  "kernelspec": {
   "display_name": "Python 3 (Spyder)",
   "language": "python3",
   "name": "python3"
  },
  "language_info": {
   "codemirror_mode": {
    "name": "ipython",
    "version": 3
   },
   "file_extension": ".py",
   "mimetype": "text/x-python",
   "name": "python",
   "nbconvert_exporter": "python",
   "pygments_lexer": "ipython3",
   "version": "3.10.17"
  }
 },
 "nbformat": 4,
 "nbformat_minor": 5
}
