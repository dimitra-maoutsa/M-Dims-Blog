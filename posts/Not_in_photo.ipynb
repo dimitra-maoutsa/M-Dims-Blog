{
 "cells": [
  {
   "cell_type": "markdown",
   "id": "b4c088a0-ee88-4858-ab46-cdd5e71ceec9",
   "metadata": {},
   "source": [
    "---\n",
    "title: \"Not pictured does not always mean not participating\"\n",
    "author: \"Dimitra Maoutsa\"\n",
    "date: \"2025-06-08\"\n",
    "categories: [blog]\n",
    "description: \"Filling in the blanks before someone else does\"\n",
    "image: images/Betsy.jpg\n",
    "bibliography: references.bib\n",
    "---\n",
    "\n",
    "\n",
    "Lately, I’ve come to realize that when certain things are left unsaid, well-meaning people sometimes try to fill the silence with stories of their own—stories that make sense to them, but don’t necessarily reflect what actually happened.\n",
    "\n",
    "Because of that, I’ve found myself in the uncomfortable position of having to share more personal details online than I normally would, just to preempt false narratives or quiet insinuations.\n",
    "\n",
    "One such case involves a recent group photo uploaded from a retreat organized by my previous research group. I am not in that photo. And given past patterns, I expect this absence will be used—subtly or not—to imply that I didn’t participate in the retreat at all.\n",
    "\n",
    "So, here is what actually happened.\n",
    "\n",
    "The retreat took place from April 17–19, 2024. I was actively involved: I prepared a flash talk on my own work ([link]) and co-prepared a joint talk with my colleagues Matt Getz and Pablo Crespo on our low-rank learning framework. Just five days later, on April 24, I was scheduled to give a talk at the Flatiron Institute in New York on a completely different project—this one focused on inference of latent low-dimensional dynamics.\n",
    "\n",
    "As you can imagine, time was tight. On April 18th, the group went for a walk, after which the photo in question was taken. I stayed back at the hotel to finalize my talk.\n",
    "\n",
    "Here is a message I later found from my former colleague, Betsy Herbert, calling me down to join the group photo. I never saw it at the time—my phone was on silent, as it almost always is.\n",
    "\n",
    "That’s the entire story."
   ]
  },
  {
   "cell_type": "code",
   "execution_count": null,
   "id": "743dc6e8-2fb9-4687-bdc1-c75f63fcf5c2",
   "metadata": {},
   "outputs": [],
   "source": []
  }
 ],
 "metadata": {
  "kernelspec": {
   "display_name": "Python 3 (Spyder)",
   "language": "python3",
   "name": "python3"
  },
  "language_info": {
   "codemirror_mode": {
    "name": "ipython",
    "version": 3
   },
   "file_extension": ".py",
   "mimetype": "text/x-python",
   "name": "python",
   "nbconvert_exporter": "python",
   "pygments_lexer": "ipython3",
   "version": "3.10.17"
  }
 },
 "nbformat": 4,
 "nbformat_minor": 5
}
